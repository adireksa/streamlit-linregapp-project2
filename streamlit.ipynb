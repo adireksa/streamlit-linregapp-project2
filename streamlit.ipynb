{
 "cells": [
  {
   "cell_type": "code",
   "execution_count": 6,
   "id": "d8d7a7a4",
   "metadata": {},
   "outputs": [],
   "source": [
    "import streamlit as st\n",
    "from sklearn.preprocessing import Normalizer, StandardScaler, RobustScaler\n"
   ]
  },
  {
   "cell_type": "code",
   "execution_count": 2,
   "id": "f3e529a9",
   "metadata": {},
   "outputs": [],
   "source": [
    "def file_selector(self):\n",
    "   file = st.sidebar.file_uploader(\"co2_emissions_encoded.pkl\", type=\"pkl\")\n",
    "   if file is not None:\n",
    "      data = pd.read_pickle(\"co2_emissions_encoded.pkl\")\n",
    "      return data\n",
    "   else:\n",
    "      st.text(\"Please upload a csv file\")"
   ]
  },
  {
   "cell_type": "code",
   "execution_count": 3,
   "id": "90efbd66",
   "metadata": {},
   "outputs": [],
   "source": [
    "def set_features(self):\n",
    "   self.features = st.multiselect('Please choose the features including target variable that go into the model', self.data.columns)"
   ]
  },
  {
   "cell_type": "code",
   "execution_count": 4,
   "id": "3af8eb19",
   "metadata": {},
   "outputs": [],
   "source": [
    "def prepare_data(self, split_data, train_test):\n",
    "   # Reduce data size\n",
    "   data = self.data[self.features]\n",
    "   data = data.sample(frac = round(split_data/100,2))"
   ]
  },
  {
   "cell_type": "code",
   "execution_count": 5,
   "id": "16c62a0f",
   "metadata": {},
   "outputs": [
    {
     "ename": "NameError",
     "evalue": "name 'data' is not defined",
     "output_type": "error",
     "traceback": [
      "\u001b[0;31m---------------------------------------------------------------------------\u001b[0m",
      "\u001b[0;31mNameError\u001b[0m                                 Traceback (most recent call last)",
      "\u001b[0;32m<ipython-input-5-fba7b4817517>\u001b[0m in \u001b[0;36m<module>\u001b[0;34m\u001b[0m\n\u001b[1;32m      1\u001b[0m \u001b[0;31m# Set target column\u001b[0m\u001b[0;34m\u001b[0m\u001b[0;34m\u001b[0m\u001b[0;34m\u001b[0m\u001b[0m\n\u001b[0;32m----> 2\u001b[0;31m \u001b[0mtarget_options\u001b[0m \u001b[0;34m=\u001b[0m \u001b[0mdata\u001b[0m\u001b[0;34m.\u001b[0m\u001b[0mcolumns\u001b[0m\u001b[0;34m\u001b[0m\u001b[0;34m\u001b[0m\u001b[0m\n\u001b[0m\u001b[1;32m      3\u001b[0m \u001b[0mself\u001b[0m\u001b[0;34m.\u001b[0m\u001b[0mchosen_target\u001b[0m \u001b[0;34m=\u001b[0m \u001b[0mst\u001b[0m\u001b[0;34m.\u001b[0m\u001b[0msidebar\u001b[0m\u001b[0;34m.\u001b[0m\u001b[0mselectbox\u001b[0m\u001b[0;34m(\u001b[0m\u001b[0;34m\"Please choose target column\"\u001b[0m\u001b[0;34m,\u001b[0m \u001b[0;34m(\u001b[0m\u001b[0mtarget_options\u001b[0m\u001b[0;34m)\u001b[0m\u001b[0;34m)\u001b[0m\u001b[0;34m\u001b[0m\u001b[0;34m\u001b[0m\u001b[0m\n",
      "\u001b[0;31mNameError\u001b[0m: name 'data' is not defined"
     ]
    }
   ],
   "source": [
    "# Set target column\n",
    "target_options = data.columns\n",
    "self.chosen_target = st.sidebar.selectbox(\"Please choose target column\", (target_options))"
   ]
  },
  {
   "cell_type": "code",
   "execution_count": null,
   "id": "3591c69e",
   "metadata": {},
   "outputs": [],
   "source": [
    "# Standardize the feature data\n",
    "X = data.loc[:, data.columns != self.chosen_target]\n",
    "scaler = StandardScaler(feature_range=(0,1))\n",
    "scaler.fit(X)\n",
    "X = pd.DataFrame(scaler.transform(X))\n",
    "X.columns = data.loc[:, data.columns != self.chosen_target].columns\n",
    "y = data[self.chosen_target]"
   ]
  },
  {
   "cell_type": "code",
   "execution_count": null,
   "id": "b633aeb3",
   "metadata": {},
   "outputs": [],
   "source": [
    "# Train test split\n",
    "try:\n",
    "   self.X_train, self.X_test, self.y_train, self.y_test =     train_test_split(X, y, test_size=(1 - train_test/100), random_state=42)\n",
    "except:\n",
    "   st.markdown('<span style=\"color:red\">With this amount of data and split size the train data will have no records, <br /> Please change reduce and split parameter <br /> </span>', unsafe_allow_html=True)"
   ]
  },
  {
   "cell_type": "code",
   "execution_count": null,
   "id": "1a4d8c8c",
   "metadata": {},
   "outputs": [],
   "source": [
    "def set_classifier_properties(self):\n",
    "   self.type = st.sidebar.selectbox(“Algorithm type”, (“Classification”, “Regression”))   \n",
    "\n",
    "    if self.type == “Regression”:\n",
    "        self.chosen_classifier = st.sidebar.selectbox(“Please choose a classifier”, (‘Random Forest’, ‘Linear Regression’, ‘Neural Network’))   \n",
    "    if self.chosen_classifier == ‘Random Forest’:\n",
    "        self.n_trees = st.sidebar.slider(‘number of trees’, 1, 1000, 1)\n",
    "    elif self.chosen_classifier == ‘Neural Network’:\n",
    "        self.epochs = st.sidebar.slider(‘number of epochs’, 1 ,100 ,10)\n",
    "        self.learning_rate = float(st.sidebar.text_input(‘learning rate:’, ‘0.001’))\n",
    "    elif self.type == “Classification”:\n",
    "        self.chosen_classifier = st.sidebar.selectbox(“Please choose a classifier”, (‘Logistic Regression’, ‘Naive Bayes’, ‘Neural Network’))\n",
    "    if self.chosen_classifier == ‘Logistic Regression’:\n",
    "        self.max_iter = st.sidebar.slider(‘max iterations’, 1, 100, 10)\n",
    "    elif self.chosen_classifier == ‘Neural Network’:\n",
    "        self.epochs = st.sidebar.slider(‘number of epochs’, 1 ,100 ,10)\n",
    "        self.learning_rate = float(st.sidebar.text_input(‘learning rate:’, ‘0.001’))\n",
    "        self.number_of_classes = int(st.sidebar.text_input(‘Number of classes’, ‘2’))"
   ]
  },
  {
   "cell_type": "code",
   "execution_count": null,
   "id": "78d0e795",
   "metadata": {},
   "outputs": [],
   "source": [
    "def predict(self, predict_btn):\n",
    "    if self.type == “Regression”:\n",
    "        if self.chosen_classifier == ‘Random Forest’:\n",
    "            self.alg = RandomForestRegressor(max_depth=2, random_state=0, n_estimators=self.n_trees)\n",
    "            self.model = self.alg.fit(self.X_train, self.y_train)\n",
    "predictions = self.alg.predict(self.X_test)\n",
    "         self.predictions_train = self.alg.predict(self.X_train)\n",
    "         self.predictions = predictions"
   ]
  }
 ],
 "metadata": {
  "kernelspec": {
   "display_name": "Python 3",
   "language": "python",
   "name": "python3"
  },
  "language_info": {
   "codemirror_mode": {
    "name": "ipython",
    "version": 3
   },
   "file_extension": ".py",
   "mimetype": "text/x-python",
   "name": "python",
   "nbconvert_exporter": "python",
   "pygments_lexer": "ipython3",
   "version": "3.8.10"
  }
 },
 "nbformat": 4,
 "nbformat_minor": 5
}
